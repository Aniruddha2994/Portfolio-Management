{
 "cells": [
  {
   "cell_type": "code",
   "execution_count": 42,
   "metadata": {
    "scrolled": true
   },
   "outputs": [],
   "source": [
    "import pandas as pd\n",
    "from bs4 import BeautifulSoup\n",
    "import re\n",
    "import string\n",
    "import json\n",
    "import requests\n",
    "\n",
    "url_stats = \"https://finance.yahoo.com/quote/{}/key-statistics?p={}\"\n",
    "url_profile = \"https://finance.yahoo.com/quote/{}/profile?p={}\"\n",
    "url_financials = \"https://finance.yahoo.com/quote/{}/financials?p={}\"\n",
    "stock = 'AAPL'\n",
    "\n",
    "#fakeStock = 'PFIU'\n",
    "url = url_profile.format(stock, stock)\n",
    "url2 = 'https://follornd.comcom'\n",
    "\n",
    "#Ensures the URL exists\n",
    "try:\n",
    "    page = requests.get(url)\n",
    "except requests.ConnectionError:\n",
    "    #print('Invalid URL, please input correct URL')\n",
    "    raise urlError(url) from None\n",
    "except:\n",
    "    print('Unknown Error')\n",
    "    \n",
    "soup = BeautifulSoup(page.text, 'lxml')\n",
    "pattern = re.compile(r'\\s--\\sData\\s--\\s')\n",
    "script_data = soup.find('script', text=pattern).contents[0]\n",
    "# print(script_data)\n",
    "start_pos = script_data.find(\"context\") - 2\n",
    "end_pos = -12\n",
    "data = json.loads(script_data[start_pos : end_pos])\n",
    "\n",
    "# Ensures the ticker is valid\n",
    "try:\n",
    "    stock_price = data['context']['dispatcher']['stores']['QuoteSummaryStore']\n",
    "except KeyError:\n",
    "    raise tickerError(stock) from None\n",
    "except:\n",
    "    print('Unknown Error')\n",
    "\n",
    "# Ensures ticker has data and is \n",
    "try:\n",
    "    realComp = stock_price['summaryDetail']['previousClose']\n",
    "except KeyError:\n",
    "    raise dataError(stock) from None\n",
    "except:\n",
    "    print('Unknown Error')"
   ]
  },
  {
   "cell_type": "code",
   "execution_count": 35,
   "metadata": {
    "scrolled": false
   },
   "outputs": [
    {
     "ename": "KeyError",
     "evalue": "'previousClose'",
     "output_type": "error",
     "traceback": [
      "\u001b[1;31m---------------------------------------------------------------------------\u001b[0m",
      "\u001b[1;31mKeyError\u001b[0m                                  Traceback (most recent call last)",
      "\u001b[1;32m<ipython-input-35-6edf8cb29bdf>\u001b[0m in \u001b[0;36m<module>\u001b[1;34m\u001b[0m\n\u001b[1;32m----> 1\u001b[1;33m \u001b[0mstock_price\u001b[0m\u001b[1;33m[\u001b[0m\u001b[1;34m'summaryDetail'\u001b[0m\u001b[1;33m]\u001b[0m\u001b[1;33m[\u001b[0m\u001b[1;34m'previousClose'\u001b[0m\u001b[1;33m]\u001b[0m\u001b[1;33m\u001b[0m\u001b[1;33m\u001b[0m\u001b[0m\n\u001b[0m",
      "\u001b[1;31mKeyError\u001b[0m: 'previousClose'"
     ]
    }
   ],
   "source": [
    "stock_price['summaryDetail']['previousClose']"
   ]
  },
  {
   "cell_type": "code",
   "execution_count": 38,
   "metadata": {},
   "outputs": [],
   "source": [
    "class tickerError(Exception):\n",
    "    def __init__(self, stock):\n",
    "        mess = str(stock) + ' Is an Invalid Ticker, please try again'\n",
    "        self.message = mess\n",
    "        super().__init__(self.message)\n",
    "        \n",
    "class urlError(Exception):\n",
    "    def __init__(self, url):\n",
    "        mess = str(url) + ' Is an Invalid URL, please try again'\n",
    "        self.message = mess\n",
    "        super().__init__(self.message)\n",
    "        \n",
    "class dataError(Exception):\n",
    "    def __init__(self, stock):\n",
    "        mess = str(stock) + ' has no data, please try again'\n",
    "        self.message = mess\n",
    "        super().__init__(self.message)"
   ]
  },
  {
   "cell_type": "code",
   "execution_count": 43,
   "metadata": {},
   "outputs": [
    {
     "data": {
      "text/plain": [
       "dict_keys(['financialsTemplate', 'price', 'secFilings', 'quoteType', 'calendarEvents', 'summaryDetail', 'symbol', 'assetProfile', 'pageViews'])"
      ]
     },
     "execution_count": 43,
     "metadata": {},
     "output_type": "execute_result"
    }
   ],
   "source": [
    "stock_price.keys()"
   ]
  },
  {
   "cell_type": "code",
   "execution_count": 44,
   "metadata": {},
   "outputs": [
    {
     "ename": "KeyError",
     "evalue": "'incomeStatementHistory'",
     "output_type": "error",
     "traceback": [
      "\u001b[1;31m---------------------------------------------------------------------------\u001b[0m",
      "\u001b[1;31mKeyError\u001b[0m                                  Traceback (most recent call last)",
      "\u001b[1;32m<ipython-input-44-4d3388b01b96>\u001b[0m in \u001b[0;36m<module>\u001b[1;34m\u001b[0m\n\u001b[0;32m      1\u001b[0m \u001b[1;31m# stock_price['price']\u001b[0m\u001b[1;33m\u001b[0m\u001b[1;33m\u001b[0m\u001b[1;33m\u001b[0m\u001b[0m\n\u001b[0;32m      2\u001b[0m \u001b[1;31m# stock_price['summaryDetail']\u001b[0m\u001b[1;33m\u001b[0m\u001b[1;33m\u001b[0m\u001b[1;33m\u001b[0m\u001b[0m\n\u001b[1;32m----> 3\u001b[1;33m \u001b[0mstock_price\u001b[0m\u001b[1;33m[\u001b[0m\u001b[1;34m'incomeStatementHistory'\u001b[0m\u001b[1;33m]\u001b[0m\u001b[1;33m[\u001b[0m\u001b[1;34m'incomeStatementHistory'\u001b[0m\u001b[1;33m]\u001b[0m\u001b[1;33m[\u001b[0m\u001b[1;36m0\u001b[0m\u001b[1;33m]\u001b[0m\u001b[1;33m[\u001b[0m\u001b[1;34m'operatingIncome'\u001b[0m\u001b[1;33m]\u001b[0m\u001b[1;33m\u001b[0m\u001b[1;33m\u001b[0m\u001b[0m\n\u001b[0m",
      "\u001b[1;31mKeyError\u001b[0m: 'incomeStatementHistory'"
     ]
    }
   ],
   "source": [
    "# stock_price['price']\n",
    "# stock_price['summaryDetail']\n",
    "stock_price['incomeStatementHistory']['incomeStatementHistory'][0]['operatingIncome']"
   ]
  },
  {
   "cell_type": "code",
   "execution_count": 46,
   "metadata": {},
   "outputs": [
    {
     "data": {
      "text/plain": [
       "{'previousClose': {'raw': 129.71, 'fmt': '129.71'},\n",
       " 'regularMarketOpen': {'raw': 130.24, 'fmt': '130.24'},\n",
       " 'twoHundredDayAverage': {'raw': 122.29948, 'fmt': '122.30'},\n",
       " 'trailingAnnualDividendYield': {'raw': 0.0062215705, 'fmt': '0.62%'},\n",
       " 'payoutRatio': {'raw': 0.2177, 'fmt': '21.77%'},\n",
       " 'volume24Hr': {},\n",
       " 'regularMarketDayHigh': {'raw': 130.71, 'fmt': '130.71'},\n",
       " 'navPrice': {},\n",
       " 'averageDailyVolume10Day': {'raw': 79932714,\n",
       "  'fmt': '79.93M',\n",
       "  'longFmt': '79,932,714'},\n",
       " 'totalAssets': {},\n",
       " 'regularMarketPreviousClose': {'raw': 129.71, 'fmt': '129.71'},\n",
       " 'fiftyDayAverage': {'raw': 133.55576, 'fmt': '133.56'},\n",
       " 'trailingAnnualDividendRate': {'raw': 0.807, 'fmt': '0.81'},\n",
       " 'open': {'raw': 130.24, 'fmt': '130.24'},\n",
       " 'toCurrency': None,\n",
       " 'averageVolume10days': {'raw': 79932714,\n",
       "  'fmt': '79.93M',\n",
       "  'longFmt': '79,932,714'},\n",
       " 'expireDate': {},\n",
       " 'yield': {},\n",
       " 'algorithm': None,\n",
       " 'dividendRate': {'raw': 0.82, 'fmt': '0.82'},\n",
       " 'exDividendDate': {'raw': 1612483200, 'fmt': '2021-02-05'},\n",
       " 'beta': {'raw': 1.267876, 'fmt': '1.27'},\n",
       " 'circulatingSupply': {},\n",
       " 'startDate': {},\n",
       " 'regularMarketDayLow': {'raw': 128.8, 'fmt': '128.80'},\n",
       " 'priceHint': {'raw': 2, 'fmt': '2', 'longFmt': '2'},\n",
       " 'currency': 'USD',\n",
       " 'trailingPE': {'raw': 35.22376, 'fmt': '35.22'},\n",
       " 'regularMarketVolume': {'raw': 87668834,\n",
       "  'fmt': '87.67M',\n",
       "  'longFmt': '87,668,834'},\n",
       " 'lastMarket': None,\n",
       " 'maxSupply': {},\n",
       " 'openInterest': {},\n",
       " 'marketCap': {'raw': 2180270522368,\n",
       "  'fmt': '2.18T',\n",
       "  'longFmt': '2,180,270,522,368'},\n",
       " 'volumeAllCurrencies': {},\n",
       " 'strikePrice': {},\n",
       " 'averageVolume': {'raw': 103578077,\n",
       "  'fmt': '103.58M',\n",
       "  'longFmt': '103,578,077'},\n",
       " 'priceToSalesTrailing12Months': {'raw': 7.4124823, 'fmt': '7.41'},\n",
       " 'dayLow': {'raw': 128.8, 'fmt': '128.80'},\n",
       " 'ask': {'raw': 129.74, 'fmt': '129.74'},\n",
       " 'ytdReturn': {},\n",
       " 'askSize': {'raw': 800, 'fmt': '800', 'longFmt': '800'},\n",
       " 'volume': {'raw': 87668834, 'fmt': '87.67M', 'longFmt': '87,668,834'},\n",
       " 'fiftyTwoWeekHigh': {'raw': 145.09, 'fmt': '145.09'},\n",
       " 'forwardPE': {'raw': 27.75, 'fmt': '27.75'},\n",
       " 'maxAge': 1,\n",
       " 'fromCurrency': None,\n",
       " 'fiveYearAvgDividendYield': {'raw': 1.44, 'fmt': '1.44'},\n",
       " 'fiftyTwoWeekLow': {'raw': 53.1525, 'fmt': '53.15'},\n",
       " 'bid': {'raw': 129.64, 'fmt': '129.64'},\n",
       " 'tradeable': False,\n",
       " 'dividendYield': {'raw': 0.0063, 'fmt': '0.63%'},\n",
       " 'bidSize': {'raw': 1200, 'fmt': '1.2k', 'longFmt': '1,200'},\n",
       " 'dayHigh': {'raw': 130.71, 'fmt': '130.71'}}"
      ]
     },
     "execution_count": 46,
     "metadata": {},
     "output_type": "execute_result"
    }
   ],
   "source": [
    "stock_price['summaryDetail']"
   ]
  },
  {
   "cell_type": "code",
   "execution_count": null,
   "metadata": {},
   "outputs": [],
   "source": []
  }
 ],
 "metadata": {
  "kernelspec": {
   "display_name": "Python 3",
   "language": "python",
   "name": "python3"
  },
  "language_info": {
   "codemirror_mode": {
    "name": "ipython",
    "version": 3
   },
   "file_extension": ".py",
   "mimetype": "text/x-python",
   "name": "python",
   "nbconvert_exporter": "python",
   "pygments_lexer": "ipython3",
   "version": "3.8.5"
  }
 },
 "nbformat": 4,
 "nbformat_minor": 5
}
